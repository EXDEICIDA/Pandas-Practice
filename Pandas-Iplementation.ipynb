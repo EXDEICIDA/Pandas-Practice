{
 "cells": [
  {
   "cell_type": "markdown",
   "id": "a7b1fb8c-9d9d-4a71-9565-a2a9940c7763",
   "metadata": {},
   "source": [
    "# Pandas - Series"
   ]
  },
  {
   "cell_type": "code",
   "execution_count": 2,
   "id": "e9250fde-cd89-436a-bf66-b52f6f8d66fe",
   "metadata": {},
   "outputs": [],
   "source": [
    "import numpy as np"
   ]
  },
  {
   "cell_type": "code",
   "execution_count": 6,
   "id": "6113fd86-542e-434b-bdbb-872867742346",
   "metadata": {},
   "outputs": [],
   "source": [
    "import pandas as pd"
   ]
  },
  {
   "cell_type": "code",
   "execution_count": 8,
   "id": "a06741de-347d-42d8-8070-a585794f195d",
   "metadata": {},
   "outputs": [],
   "source": [
    "# help(pd.series)"
   ]
  },
  {
   "cell_type": "code",
   "execution_count": 22,
   "id": "1acd2f09-712f-49a4-a9bb-d6db858450c6",
   "metadata": {},
   "outputs": [],
   "source": [
    "myIndex = ['USA','CANADA','FRANCE','MEXICO']"
   ]
  },
  {
   "cell_type": "code",
   "execution_count": 12,
   "id": "1ee32474-6e42-4543-91c0-873b952373ea",
   "metadata": {},
   "outputs": [],
   "source": [
    "myData = ['1776-07-04', '1867-07-01', '843-10-03', '1810-09-16']"
   ]
  },
  {
   "cell_type": "code",
   "execution_count": 24,
   "id": "57cc075d-a836-40a3-be1c-ca47d600b418",
   "metadata": {},
   "outputs": [],
   "source": [
    "serie = pd.Series(data = myData, index = myIndex)"
   ]
  },
  {
   "cell_type": "code",
   "execution_count": 26,
   "id": "e2a2ad8e-7a35-4fb9-a876-df9d1bd773e9",
   "metadata": {},
   "outputs": [
    {
     "data": {
      "text/plain": [
       "USA       1776-07-04\n",
       "CANADA    1867-07-01\n",
       "FRANCE     843-10-03\n",
       "MEXICO    1810-09-16\n",
       "dtype: object"
      ]
     },
     "execution_count": 26,
     "metadata": {},
     "output_type": "execute_result"
    }
   ],
   "source": [
    "serie"
   ]
  },
  {
   "cell_type": "code",
   "execution_count": 18,
   "id": "06500c66-af3a-476f-9e39-76b253738d90",
   "metadata": {},
   "outputs": [
    {
     "data": {
      "text/plain": [
       "pandas.core.series.Series"
      ]
     },
     "execution_count": 18,
     "metadata": {},
     "output_type": "execute_result"
    }
   ],
   "source": [
    "type(serie)"
   ]
  },
  {
   "cell_type": "code",
   "execution_count": 28,
   "id": "3d1fe3f5-8ef7-454f-b4ed-f4d0abf141dc",
   "metadata": {},
   "outputs": [
    {
     "data": {
      "text/plain": [
       "'1776-07-04'"
      ]
     },
     "execution_count": 28,
     "metadata": {},
     "output_type": "execute_result"
    }
   ],
   "source": [
    "serie['USA']"
   ]
  },
  {
   "cell_type": "code",
   "execution_count": 36,
   "id": "dc8a7f75-f3b7-4034-86f9-cafe5babc280",
   "metadata": {},
   "outputs": [],
   "source": [
    "ages = {'Sam':5,'Eleanor':52,'Rafa':30}"
   ]
  },
  {
   "cell_type": "code",
   "execution_count": 40,
   "id": "b04d65f2-f255-4aa1-9c9d-04cd7c1c65d0",
   "metadata": {},
   "outputs": [
    {
     "data": {
      "text/plain": [
       "Sam         5\n",
       "Eleanor    52\n",
       "Rafa       30\n",
       "dtype: int64"
      ]
     },
     "execution_count": 40,
     "metadata": {},
     "output_type": "execute_result"
    }
   ],
   "source": [
    "pd.Series(ages)"
   ]
  },
  {
   "cell_type": "code",
   "execution_count": 46,
   "id": "3b9e8229-0e26-4c74-8db7-d70191c92738",
   "metadata": {},
   "outputs": [],
   "source": [
    "# Imaginary Sales Data for 1st and 2nd Quarters for Global Company\n",
    "q1 = {'Japan': 80, 'China': 450, 'India': 200, 'USA': 250}\n",
    "q2 = {'Brazil': 100,'China': 500, 'India': 210,'USA': 260}"
   ]
  },
  {
   "cell_type": "code",
   "execution_count": 50,
   "id": "5fb22a97-9ec6-480c-9f5b-cafd3ddac5ad",
   "metadata": {},
   "outputs": [],
   "source": [
    "sales_q1 = pd.Series(q1)"
   ]
  },
  {
   "cell_type": "code",
   "execution_count": 52,
   "id": "d68e9137-b06f-4931-9bac-677b7d951704",
   "metadata": {},
   "outputs": [],
   "source": [
    "sales_q2 = pd.Series(q2)"
   ]
  },
  {
   "cell_type": "code",
   "execution_count": 54,
   "id": "2378f877-cb34-4287-a4d5-c44bf000ff32",
   "metadata": {},
   "outputs": [
    {
     "data": {
      "text/plain": [
       "Japan     80\n",
       "China    450\n",
       "India    200\n",
       "USA      250\n",
       "dtype: int64"
      ]
     },
     "execution_count": 54,
     "metadata": {},
     "output_type": "execute_result"
    }
   ],
   "source": [
    "sales_q1"
   ]
  },
  {
   "cell_type": "code",
   "execution_count": 56,
   "id": "daf92396-1c94-4cfc-b3b5-88d64116af42",
   "metadata": {},
   "outputs": [
    {
     "data": {
      "text/plain": [
       "Japan     80\n",
       "China    450\n",
       "India    200\n",
       "USA      250\n",
       "dtype: int64"
      ]
     },
     "execution_count": 56,
     "metadata": {},
     "output_type": "execute_result"
    }
   ],
   "source": [
    "sales_q1"
   ]
  },
  {
   "cell_type": "code",
   "execution_count": 60,
   "id": "6003f7e7-9262-405f-99f3-816177f9057d",
   "metadata": {},
   "outputs": [
    {
     "data": {
      "text/plain": [
       "Index(['Japan', 'China', 'India', 'USA'], dtype='object')"
      ]
     },
     "execution_count": 60,
     "metadata": {},
     "output_type": "execute_result"
    }
   ],
   "source": [
    "sales_q1.keys()"
   ]
  },
  {
   "cell_type": "code",
   "execution_count": 62,
   "id": "14803dab-8b3e-4845-a435-0782208528ff",
   "metadata": {},
   "outputs": [
    {
     "data": {
      "text/plain": [
       "80"
      ]
     },
     "execution_count": 62,
     "metadata": {},
     "output_type": "execute_result"
    }
   ],
   "source": [
    "sales_q1['Japan']"
   ]
  },
  {
   "cell_type": "code",
   "execution_count": 64,
   "id": "73c25432-2505-49e3-bc3c-d32c10499ffb",
   "metadata": {},
   "outputs": [
    {
     "data": {
      "text/plain": [
       "Japan    0.8\n",
       "China    4.5\n",
       "India    2.0\n",
       "USA      2.5\n",
       "dtype: float64"
      ]
     },
     "execution_count": 64,
     "metadata": {},
     "output_type": "execute_result"
    }
   ],
   "source": [
    "sales_q1/100"
   ]
  },
  {
   "cell_type": "code",
   "execution_count": 66,
   "id": "6901199d-b153-4cc3-b498-99a9fc40139c",
   "metadata": {},
   "outputs": [
    {
     "data": {
      "text/plain": [
       "Brazil      NaN\n",
       "China     950.0\n",
       "India     410.0\n",
       "Japan       NaN\n",
       "USA       510.0\n",
       "dtype: float64"
      ]
     },
     "execution_count": 66,
     "metadata": {},
     "output_type": "execute_result"
    }
   ],
   "source": [
    "sales_q1 + sales_q2"
   ]
  },
  {
   "cell_type": "code",
   "execution_count": 68,
   "id": "3e771ff8-8c3b-4231-a0cc-7f9e9c099743",
   "metadata": {},
   "outputs": [
    {
     "data": {
      "text/plain": [
       "Brazil    100.0\n",
       "China     950.0\n",
       "India     410.0\n",
       "Japan      80.0\n",
       "USA       510.0\n",
       "dtype: float64"
      ]
     },
     "execution_count": 68,
     "metadata": {},
     "output_type": "execute_result"
    }
   ],
   "source": [
    "sales_q1.add(sales_q2,fill_value = 0)"
   ]
  },
  {
   "cell_type": "code",
   "execution_count": null,
   "id": "4dbc5832-318a-49e3-98c6-f0a96a98ffec",
   "metadata": {},
   "outputs": [],
   "source": []
  }
 ],
 "metadata": {
  "kernelspec": {
   "display_name": "Python [conda env:base] *",
   "language": "python",
   "name": "conda-base-py"
  },
  "language_info": {
   "codemirror_mode": {
    "name": "ipython",
    "version": 3
   },
   "file_extension": ".py",
   "mimetype": "text/x-python",
   "name": "python",
   "nbconvert_exporter": "python",
   "pygments_lexer": "ipython3",
   "version": "3.12.7"
  }
 },
 "nbformat": 4,
 "nbformat_minor": 5
}
